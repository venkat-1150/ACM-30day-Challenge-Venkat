{
  "nbformat": 4,
  "nbformat_minor": 0,
  "metadata": {
    "colab": {
      "provenance": []
    },
    "kernelspec": {
      "name": "python3",
      "display_name": "Python 3"
    },
    "language_info": {
      "name": "python"
    }
  },
  "cells": [
    {
      "cell_type": "code",
      "execution_count": 5,
      "metadata": {
        "id": "uRsf8PV9TiTg"
      },
      "outputs": [],
      "source": [
        "import pandas as pd\n",
        "from sklearn.model_selection import train_test_split\n",
        "from sklearn.ensemble import RandomForestClassifier\n",
        "from sklearn.tree import DecisionTreeClassifier\n",
        "from sklearn.neighbors import KNeighborsClassifier\n",
        "from sklearn.preprocessing import StandardScaler\n",
        "from sklearn.metrics import accuracy_score"
      ]
    },
    {
      "cell_type": "code",
      "source": [
        "df = pd.read_csv(\"/content/cleaned_burnout_dataset.csv\")"
      ],
      "metadata": {
        "id": "l4D_u2tnUZIz"
      },
      "execution_count": 6,
      "outputs": []
    },
    {
      "cell_type": "code",
      "source": [
        "y = df['BurnoutRisk']\n",
        "X = df.drop(columns=['BurnoutRisk', 'BurnoutLevel'], errors='ignore')\n",
        "X = pd.get_dummies(X)"
      ],
      "metadata": {
        "id": "adBQuAfBVNCf"
      },
      "execution_count": 7,
      "outputs": []
    },
    {
      "cell_type": "code",
      "source": [
        "scaler = StandardScaler()\n",
        "num_cols = X.select_dtypes(include=['number']).columns\n",
        "X[num_cols] = scaler.fit_transform(X[num_cols])"
      ],
      "metadata": {
        "id": "6WXd70C-WHkE"
      },
      "execution_count": 8,
      "outputs": []
    },
    {
      "cell_type": "code",
      "source": [
        "X_train, X_test, y_train, y_test = train_test_split(X,y,test_size=0.3,random_state=42)"
      ],
      "metadata": {
        "id": "F1h41MRHWPGv"
      },
      "execution_count": 9,
      "outputs": []
    },
    {
      "cell_type": "code",
      "source": [
        "dt = DecisionTreeClassifier(random_state=42)\n",
        "dt.fit(X_train, y_train)\n",
        "predictions_tree=dt.predict(X_test)\n",
        "dt_acc = accuracy_score(y_test, predictions_tree)\n",
        "print(\"Decision Tree Accuracy :\",dt_acc)"
      ],
      "metadata": {
        "colab": {
          "base_uri": "https://localhost:8080/"
        },
        "id": "3mXwjDJrWWAp",
        "outputId": "86b2de11-3899-40c3-b5f8-41f083386892"
      },
      "execution_count": 13,
      "outputs": [
        {
          "output_type": "stream",
          "name": "stdout",
          "text": [
            "Decision Tree Accuracy (all features): 0.5622222222222222\n"
          ]
        }
      ]
    },
    {
      "cell_type": "code",
      "source": [
        "randomf=RandomForestClassifier(random_state=42)\n",
        "randomf.fit(X_train, y_train)\n",
        "predictions_rf=randomf.predict(X_test)\n",
        "rf_acc = accuracy_score(y_test,predictions_rf)\n",
        "print(\"Random Forest Accuracy:\",rf_acc)"
      ],
      "metadata": {
        "colab": {
          "base_uri": "https://localhost:8080/"
        },
        "id": "NYW7KatPgbDz",
        "outputId": "25021fcd-c353-4d81-9fce-8a1fc2fbab3f"
      },
      "execution_count": 14,
      "outputs": [
        {
          "output_type": "stream",
          "name": "stdout",
          "text": [
            "Random Forest Accuracy: 0.6666666666666666\n"
          ]
        }
      ]
    },
    {
      "cell_type": "code",
      "source": [
        "kneighbor=KNeighborsClassifier()\n",
        "kneighbor.fit(X_train, y_train)\n",
        "predictions_knn=kneighbor.predict(X_test)\n",
        "knn_acc = accuracy_score(y_test,predictions_knn)\n",
        "print(\"KNN Accuracy:\",knn_acc)"
      ],
      "metadata": {
        "colab": {
          "base_uri": "https://localhost:8080/"
        },
        "id": "oKP4OaoUgnJy",
        "outputId": "ed16941b-598f-44aa-a7fa-a671baf4e66d"
      },
      "execution_count": 15,
      "outputs": [
        {
          "output_type": "stream",
          "name": "stdout",
          "text": [
            "KNN Accuracy: 0.6188888888888889\n"
          ]
        }
      ]
    },
    {
      "cell_type": "code",
      "source": [
        "importances = randomf.feature_importances_\n",
        "feature_series = pd.Series(importances, index=X.columns)\n",
        "top3 = feature_series.sort_values(ascending=False).head(3).index.tolist()\n",
        "print(\"Top 3 important features:\", top3)"
      ],
      "metadata": {
        "colab": {
          "base_uri": "https://localhost:8080/"
        },
        "id": "yJNM6OYlhXsZ",
        "outputId": "bc5eb8c7-8365-4c26-ab0a-aed5639ea55d"
      },
      "execution_count": 16,
      "outputs": [
        {
          "output_type": "stream",
          "name": "stdout",
          "text": [
            "Top 3 important features: ['EmployeeID', 'ProductivityScore', 'ManagerSupportScore']\n"
          ]
        }
      ]
    },
    {
      "cell_type": "code",
      "source": [
        "Xreduced=X[top3]\n",
        "X__train, X__test, y__train, y__test = train_test_split(Xreduced, y, test_size=0.3, random_state=42)"
      ],
      "metadata": {
        "id": "3aK4kA6Kidvi"
      },
      "execution_count": 21,
      "outputs": []
    },
    {
      "cell_type": "code",
      "source": [
        "dt = DecisionTreeClassifier(random_state=42)\n",
        "dt.fit(X__train, y__train)\n",
        "predictions__tree=dt.predict(X__test)\n",
        "dt__acc = accuracy_score(y__test, predictions__tree)\n",
        "print(\"Decision Tree Accuracy(top 3) :\",dt_acc)"
      ],
      "metadata": {
        "colab": {
          "base_uri": "https://localhost:8080/"
        },
        "id": "PBhK_-Oliugr",
        "outputId": "971434d4-1c2f-4293-c8df-d509115b6125"
      },
      "execution_count": 22,
      "outputs": [
        {
          "output_type": "stream",
          "name": "stdout",
          "text": [
            "Decision Tree Accuracy(top 3) : 0.5622222222222222\n"
          ]
        }
      ]
    },
    {
      "cell_type": "code",
      "source": [
        "randomf=RandomForestClassifier(random_state=42)\n",
        "randomf.fit(X__train, y__train)\n",
        "predictions__rf=randomf.predict(X__test)\n",
        "rf__acc = accuracy_score(y__test,predictions__rf)\n",
        "print(\"Random Forest Accuracy(top 3):\",rf__acc)"
      ],
      "metadata": {
        "colab": {
          "base_uri": "https://localhost:8080/"
        },
        "id": "9-mbYqTjjJmT",
        "outputId": "b52a6372-88cd-43b6-afeb-0c2695ac0809"
      },
      "execution_count": 23,
      "outputs": [
        {
          "output_type": "stream",
          "name": "stdout",
          "text": [
            "Random Forest Accuracy(top 3): 0.6377777777777778\n"
          ]
        }
      ]
    },
    {
      "cell_type": "code",
      "source": [
        "kneighbor=KNeighborsClassifier()\n",
        "kneighbor.fit(X__train, y__train)\n",
        "predictions__knn=kneighbor.predict(X__test)\n",
        "knn__acc = accuracy_score(y__test,predictions__knn)\n",
        "print(\"KNN Accuracy(top 3):\",knn__acc)"
      ],
      "metadata": {
        "colab": {
          "base_uri": "https://localhost:8080/"
        },
        "id": "ZO9hXogSjihG",
        "outputId": "307222c1-3a70-4606-8fea-70f75f99ffea"
      },
      "execution_count": 24,
      "outputs": [
        {
          "output_type": "stream",
          "name": "stdout",
          "text": [
            "KNN Accuracy(top 3): 0.6111111111111112\n"
          ]
        }
      ]
    },
    {
      "cell_type": "code",
      "source": [],
      "metadata": {
        "id": "4P4KWs0Kj2AH"
      },
      "execution_count": null,
      "outputs": []
    }
  ]
}