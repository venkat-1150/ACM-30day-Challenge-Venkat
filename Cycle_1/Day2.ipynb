{
  "nbformat": 4,
  "nbformat_minor": 0,
  "metadata": {
    "colab": {
      "provenance": []
    },
    "kernelspec": {
      "name": "python3",
      "display_name": "Python 3"
    },
    "language_info": {
      "name": "python"
    }
  },
  "cells": [
    {
      "cell_type": "code",
      "execution_count": 85,
      "metadata": {
        "colab": {
          "base_uri": "https://localhost:8080/"
        },
        "id": "RPiLisluMzb5",
        "outputId": "a7430a2a-dd3b-4b7b-b345-da3a1b4574ea"
      },
      "outputs": [
        {
          "output_type": "stream",
          "name": "stdout",
          "text": [
            "EmployeeID                  int64\n",
            "Age                         int64\n",
            "Gender                     object\n",
            "Country                    object\n",
            "JobRole                    object\n",
            "Department                 object\n",
            "YearsAtCompany              int64\n",
            "WorkHoursPerWeek            int64\n",
            "RemoteWork                 object\n",
            "BurnoutLevel              float64\n",
            "JobSatisfaction           float64\n",
            "StressLevel               float64\n",
            "ProductivityScore         float64\n",
            "SleepHours                float64\n",
            "PhysicalActivityHrs       float64\n",
            "CommuteTime                 int64\n",
            "HasMentalHealthSupport     object\n",
            "ManagerSupportScore       float64\n",
            "HasTherapyAccess           object\n",
            "MentalHealthDaysOff         int64\n",
            "SalaryRange                object\n",
            "WorkLifeBalanceScore      float64\n",
            "TeamSize                    int64\n",
            "CareerGrowthScore         float64\n",
            "BurnoutRisk                 int64\n",
            "dtype: object\n"
          ]
        }
      ],
      "source": [
        "import pandas as pd\n",
        "from sklearn.preprocessing import MinMaxScaler\n",
        "import seaborn as sns\n",
        "import matplotlib.pyplot as plt\n",
        "from sklearn.preprocessing import OrdinalEncoder\n",
        "from sklearn.feature_selection import mutual_info_regression\n",
        "from sklearn.model_selection import train_test_split\n",
        "from sklearn.linear_model import LinearRegression\n",
        "from sklearn.linear_model import Ridge\n",
        "from sklearn.linear_model import Lasso\n",
        "from sklearn.metrics import mean_squared_error, r2_score\n",
        "\n",
        "df=pd.read_csv('/content/cleaned_burnout_dataset.csv')\n",
        "\n",
        "print(df.dtypes)\n",
        "\n"
      ]
    },
    {
      "cell_type": "code",
      "source": [
        "cat_cols=df.select_dtypes(include=\"object\").columns\n",
        "num_cols=df.select_dtypes(include=\"number\").columns\n",
        "print(cat_cols)\n",
        "print(num_cols)"
      ],
      "metadata": {
        "colab": {
          "base_uri": "https://localhost:8080/"
        },
        "id": "jJYoW_kKYPcr",
        "outputId": "d881acd2-8cc1-4b89-8492-9cfbd453dedc"
      },
      "execution_count": 86,
      "outputs": [
        {
          "output_type": "stream",
          "name": "stdout",
          "text": [
            "Index(['Gender', 'Country', 'JobRole', 'Department', 'RemoteWork',\n",
            "       'HasMentalHealthSupport', 'HasTherapyAccess', 'SalaryRange'],\n",
            "      dtype='object')\n",
            "Index(['EmployeeID', 'Age', 'YearsAtCompany', 'WorkHoursPerWeek',\n",
            "       'BurnoutLevel', 'JobSatisfaction', 'StressLevel', 'ProductivityScore',\n",
            "       'SleepHours', 'PhysicalActivityHrs', 'CommuteTime',\n",
            "       'ManagerSupportScore', 'MentalHealthDaysOff', 'WorkLifeBalanceScore',\n",
            "       'TeamSize', 'CareerGrowthScore', 'BurnoutRisk'],\n",
            "      dtype='object')\n"
          ]
        }
      ]
    },
    {
      "cell_type": "code",
      "source": [
        "df = pd.get_dummies(df, columns=cat_cols, drop_first=True)\n",
        "print(df.head())\n",
        "\n",
        "scaler=MinMaxScaler()\n",
        "df[num_cols]=scaler.fit_transform(df[num_cols])"
      ],
      "metadata": {
        "colab": {
          "base_uri": "https://localhost:8080/"
        },
        "id": "84xw9dnUYdeI",
        "outputId": "044d259f-7b72-4f39-b2bb-104fb2fc1915"
      },
      "execution_count": 87,
      "outputs": [
        {
          "output_type": "stream",
          "name": "stdout",
          "text": [
            "   EmployeeID  Age  YearsAtCompany  WorkHoursPerWeek  BurnoutLevel  \\\n",
            "0        1001   50              14                47          3.37   \n",
            "1        1002   36               1                59          7.39   \n",
            "2        1003   29              13                59          7.10   \n",
            "3        1004   42              15                31          4.18   \n",
            "4        1005   40               6                34          8.28   \n",
            "\n",
            "   JobSatisfaction  StressLevel  ProductivityScore  SleepHours  \\\n",
            "0             5.06         9.47               4.16         7.0   \n",
            "1             2.00         5.65               3.74         7.2   \n",
            "2             7.17         5.70               8.80         5.2   \n",
            "3             3.76         6.40               4.69         8.7   \n",
            "4             2.34         3.41               2.12         4.2   \n",
            "\n",
            "   PhysicalActivityHrs  ...  Department_Sales  Department_Support  \\\n",
            "0                  7.9  ...             False               False   \n",
            "1                  9.0  ...             False               False   \n",
            "2                  9.7  ...             False               False   \n",
            "3                  5.8  ...             False               False   \n",
            "4                  3.3  ...             False                True   \n",
            "\n",
            "   RemoteWork_No  RemoteWork_Yes  HasMentalHealthSupport_Yes  \\\n",
            "0           True           False                       False   \n",
            "1          False           False                        True   \n",
            "2          False           False                       False   \n",
            "3          False            True                        True   \n",
            "4          False            True                        True   \n",
            "\n",
            "   HasTherapyAccess_Yes  SalaryRange_40K-60K  SalaryRange_60K-80K  \\\n",
            "0                  True                 True                False   \n",
            "1                  True                False                False   \n",
            "2                 False                False                False   \n",
            "3                  True                False                 True   \n",
            "4                  True                False                False   \n",
            "\n",
            "   SalaryRange_80K-100K  SalaryRange_<40K  \n",
            "0                 False             False  \n",
            "1                  True             False  \n",
            "2                  True             False  \n",
            "3                 False             False  \n",
            "4                 False              True  \n",
            "\n",
            "[5 rows x 46 columns]\n"
          ]
        }
      ]
    },
    {
      "cell_type": "code",
      "source": [
        "print(df.head())\n"
      ],
      "metadata": {
        "colab": {
          "base_uri": "https://localhost:8080/"
        },
        "id": "oyJvyWEeapQD",
        "outputId": "40e94c22-4814-4ff4-fd24-322938ccc525"
      },
      "execution_count": 88,
      "outputs": [
        {
          "output_type": "stream",
          "name": "stdout",
          "text": [
            "   EmployeeID       Age  YearsAtCompany  WorkHoursPerWeek  BurnoutLevel  \\\n",
            "0    0.000000  0.756757            0.70          0.586207      0.263333   \n",
            "1    0.000333  0.378378            0.05          1.000000      0.710000   \n",
            "2    0.000667  0.189189            0.65          1.000000      0.677778   \n",
            "3    0.001000  0.540541            0.75          0.034483      0.353333   \n",
            "4    0.001334  0.486486            0.30          0.137931      0.808889   \n",
            "\n",
            "   JobSatisfaction  StressLevel  ProductivityScore  SleepHours  \\\n",
            "0         0.451111     0.941111           0.351111        0.60   \n",
            "1         0.111111     0.516667           0.304444        0.64   \n",
            "2         0.685556     0.522222           0.866667        0.24   \n",
            "3         0.306667     0.600000           0.410000        0.94   \n",
            "4         0.148889     0.267778           0.124444        0.04   \n",
            "\n",
            "   PhysicalActivityHrs  ...  Department_Sales  Department_Support  \\\n",
            "0                 0.79  ...             False               False   \n",
            "1                 0.90  ...             False               False   \n",
            "2                 0.97  ...             False               False   \n",
            "3                 0.58  ...             False               False   \n",
            "4                 0.33  ...             False                True   \n",
            "\n",
            "   RemoteWork_No  RemoteWork_Yes  HasMentalHealthSupport_Yes  \\\n",
            "0           True           False                       False   \n",
            "1          False           False                        True   \n",
            "2          False           False                       False   \n",
            "3          False            True                        True   \n",
            "4          False            True                        True   \n",
            "\n",
            "   HasTherapyAccess_Yes  SalaryRange_40K-60K  SalaryRange_60K-80K  \\\n",
            "0                  True                 True                False   \n",
            "1                  True                False                False   \n",
            "2                 False                False                False   \n",
            "3                  True                False                 True   \n",
            "4                  True                False                False   \n",
            "\n",
            "   SalaryRange_80K-100K  SalaryRange_<40K  \n",
            "0                 False             False  \n",
            "1                  True             False  \n",
            "2                  True             False  \n",
            "3                 False             False  \n",
            "4                 False              True  \n",
            "\n",
            "[5 rows x 46 columns]\n"
          ]
        }
      ]
    },
    {
      "cell_type": "markdown",
      "source": [],
      "metadata": {
        "id": "iOAA8JchOTtt"
      }
    },
    {
      "cell_type": "code",
      "source": [
        "\n",
        "X=df.drop('StressLevel',axis=1)\n",
        "y=df['StressLevel']\n",
        "mi_scores = mutual_info_regression(X, y)\n",
        "mi_scores = pd.Series(mi_scores, index=X.columns)\n",
        "mi_scores = mi_scores.sort_values(ascending=False)\n",
        "print(mi_scores)"
      ],
      "metadata": {
        "id": "Svs4Vt-cgk5J",
        "colab": {
          "base_uri": "https://localhost:8080/"
        },
        "outputId": "59fb89d0-0a9f-4cab-92d6-51e92e685c31"
      },
      "execution_count": 95,
      "outputs": [
        {
          "output_type": "stream",
          "name": "stdout",
          "text": [
            "Stress_WorkHours              0.727018\n",
            "SleepHours                    0.010776\n",
            "SalaryRange_<40K              0.010637\n",
            "Country_Brazil                0.010038\n",
            "Country_Germany               0.009339\n",
            "CareerGrowthScore             0.008999\n",
            "ManagerSupportScore           0.008657\n",
            "RemoteWork_Yes                0.008020\n",
            "WorkHours_SleepHours          0.006444\n",
            "SalaryRange_80K-100K          0.006431\n",
            "Department_IT                 0.004888\n",
            "BurnoutRisk                   0.004422\n",
            "SalaryRange_40K-60K           0.004374\n",
            "YearsAtCompany                0.004075\n",
            "Country_India                 0.003784\n",
            "JobRole_HR Specialist         0.002913\n",
            "Country_Canada                0.002197\n",
            "JobRole_Sales Associate       0.002120\n",
            "RemoteWork_No                 0.001828\n",
            "JobRole_Software Engineer     0.001383\n",
            "Department_HR                 0.001363\n",
            "ProductivityScore             0.001037\n",
            "JobRole_IT Admin              0.000760\n",
            "EmployeeID                    0.000000\n",
            "Age                           0.000000\n",
            "MentalHealthDaysOff           0.000000\n",
            "CommuteTime                   0.000000\n",
            "PhysicalActivityHrs           0.000000\n",
            "WorkHoursPerWeek              0.000000\n",
            "BurnoutLevel                  0.000000\n",
            "JobSatisfaction               0.000000\n",
            "TeamSize                      0.000000\n",
            "WorkLifeBalanceScore          0.000000\n",
            "Country_USA                   0.000000\n",
            "JobRole_Data Scientist        0.000000\n",
            "Country_UK                    0.000000\n",
            "Gender_Prefer not to say      0.000000\n",
            "Gender_Male                   0.000000\n",
            "Gender_Non-binary             0.000000\n",
            "JobRole_Project Manager       0.000000\n",
            "JobRole_Marketing Manager     0.000000\n",
            "Department_Marketing          0.000000\n",
            "Department_Support            0.000000\n",
            "Department_Sales              0.000000\n",
            "SalaryRange_60K-80K           0.000000\n",
            "HasMentalHealthSupport_Yes    0.000000\n",
            "HasTherapyAccess_Yes          0.000000\n",
            "dtype: float64\n"
          ]
        }
      ]
    },
    {
      "cell_type": "code",
      "source": [
        "#interaction features\n",
        "df['Stress_WorkHours'] = df['StressLevel'] * df['WorkHoursPerWeek']\n",
        "# df['Stress_SleepHours'] = df['StressLevel'] * df['SleepHoursPerDay']\n",
        "df['WorkHours_SleepHours'] = df['WorkHoursPerWeek'] * df['SleepHours']\n"
      ],
      "metadata": {
        "id": "DOO3urSnNiJ3"
      },
      "execution_count": 94,
      "outputs": []
    },
    {
      "cell_type": "code",
      "source": [
        "X_train, X_test, y_train, y_test = train_test_split(X,y,test_size=0.3,random_state=42)"
      ],
      "metadata": {
        "id": "5h4hvrjL49fK"
      },
      "execution_count": 83,
      "outputs": []
    },
    {
      "cell_type": "code",
      "source": [
        "#Linear Regression\n",
        "model=LinearRegression()\n",
        "model.fit(X_train, y_train)\n",
        "print(model.coef_)\n",
        "predictions=model.predict(X_test)\n",
        "# plt.scatter(y_test, predictions)\n",
        "print(\"Linear Regression\")\n",
        "print(\"MSE\",mean_squared_error(y_test,predictions))\n",
        "print(\"R² Score:\", r2_score(y_test, predictions))"
      ],
      "metadata": {
        "colab": {
          "base_uri": "https://localhost:8080/"
        },
        "id": "I14QkaeaBuaK",
        "outputId": "1dc0f0b1-7e6b-4831-e35c-c7fb3109c847"
      },
      "execution_count": 74,
      "outputs": [
        {
          "output_type": "stream",
          "name": "stdout",
          "text": [
            "[ 0.01570836 -0.00533359 -0.01128009 -0.01779716  0.03912568 -0.02610568\n",
            " -0.03088591  0.02389909 -0.01345036 -0.02031127 -0.04573441  0.00693008\n",
            "  0.02149263  0.02669996 -0.00625983 -0.0146642  -0.03405089 -0.02452793\n",
            "  0.00205778  0.00656089 -0.0043251   0.01749773 -0.02024604  0.02107358\n",
            "  0.04291587  0.00380048 -0.00389144  0.00436856  0.01009397  0.02306338\n",
            "  0.00569293 -0.03070655 -0.03685875 -0.00526187 -0.01742659 -0.03314888\n",
            " -0.04510642 -0.01291278 -0.02583568 -0.0018802   0.01064861  0.00837127\n",
            "  0.03542098 -0.01953842  0.00273281]\n",
            "Linear Regression\n",
            "MSE 0.08570396333894956\n",
            "R² Score: -0.026703483302488173\n"
          ]
        }
      ]
    },
    {
      "cell_type": "code",
      "source": [
        "\n",
        "#Ridge Regression\n",
        "ridge_model=Ridge(alpha=0.1)\n",
        "ridge_model.fit(X_train, y_train)\n",
        "print(model.coef_)\n",
        "ridge_predictions=ridge_model.predict(X_test)\n",
        "# plt.scatter(y_test, ridge_predictions)\n",
        "print(\"Ridge Regression\")\n",
        "print(\"MSE\",mean_squared_error(y_test,ridge_predictions))\n",
        "print(\"R² Score:\", r2_score(y_test, ridge_predictions))"
      ],
      "metadata": {
        "colab": {
          "base_uri": "https://localhost:8080/"
        },
        "id": "Bd4-la8YCFv5",
        "outputId": "afd36804-8c12-4de2-d33b-519349c33919"
      },
      "execution_count": 75,
      "outputs": [
        {
          "output_type": "stream",
          "name": "stdout",
          "text": [
            "[ 0.01570836 -0.00533359 -0.01128009 -0.01779716  0.03912568 -0.02610568\n",
            " -0.03088591  0.02389909 -0.01345036 -0.02031127 -0.04573441  0.00693008\n",
            "  0.02149263  0.02669996 -0.00625983 -0.0146642  -0.03405089 -0.02452793\n",
            "  0.00205778  0.00656089 -0.0043251   0.01749773 -0.02024604  0.02107358\n",
            "  0.04291587  0.00380048 -0.00389144  0.00436856  0.01009397  0.02306338\n",
            "  0.00569293 -0.03070655 -0.03685875 -0.00526187 -0.01742659 -0.03314888\n",
            " -0.04510642 -0.01291278 -0.02583568 -0.0018802   0.01064861  0.00837127\n",
            "  0.03542098 -0.01953842  0.00273281]\n",
            "Ridge Regression\n",
            "MSE 0.0857019653392584\n",
            "R² Score: -0.026679547965514194\n"
          ]
        }
      ]
    },
    {
      "cell_type": "code",
      "source": [
        "#Lasso Regression\n",
        "lasso_model=Lasso(alpha=0.1)\n",
        "lasso_model.fit(X_train, y_train)\n",
        "print(model.coef_)\n",
        "lasso_predictions=lasso_model.predict(X_test)\n",
        "# plt.scatter(y_test, lasso_predictions)\n",
        "print(\"Laasso Regression\")\n",
        "print(\"MSE\",mean_squared_error(y_test,lasso_predictions))\n",
        "print(\"R² Score:\", r2_score(y_test, lasso_predictions))"
      ],
      "metadata": {
        "colab": {
          "base_uri": "https://localhost:8080/"
        },
        "id": "OQfDWbXPHgUZ",
        "outputId": "97d08d72-facb-49e7-dad3-23140d6ae701"
      },
      "execution_count": 77,
      "outputs": [
        {
          "output_type": "stream",
          "name": "stdout",
          "text": [
            "[ 0.01570836 -0.00533359 -0.01128009 -0.01779716  0.03912568 -0.02610568\n",
            " -0.03088591  0.02389909 -0.01345036 -0.02031127 -0.04573441  0.00693008\n",
            "  0.02149263  0.02669996 -0.00625983 -0.0146642  -0.03405089 -0.02452793\n",
            "  0.00205778  0.00656089 -0.0043251   0.01749773 -0.02024604  0.02107358\n",
            "  0.04291587  0.00380048 -0.00389144  0.00436856  0.01009397  0.02306338\n",
            "  0.00569293 -0.03070655 -0.03685875 -0.00526187 -0.01742659 -0.03314888\n",
            " -0.04510642 -0.01291278 -0.02583568 -0.0018802   0.01064861  0.00837127\n",
            "  0.03542098 -0.01953842  0.00273281]\n",
            "Laasso Regression\n",
            "MSE 0.08368091920793555\n",
            "R² Score: -0.002468122704610609\n"
          ]
        }
      ]
    },
    {
      "cell_type": "code",
      "source": [],
      "metadata": {
        "id": "iFgN3C2TJNPM"
      },
      "execution_count": null,
      "outputs": []
    }
  ]
}