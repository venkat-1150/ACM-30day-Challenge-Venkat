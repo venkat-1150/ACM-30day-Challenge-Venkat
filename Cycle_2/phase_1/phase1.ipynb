{
  "nbformat": 4,
  "nbformat_minor": 0,
  "metadata": {
    "colab": {
      "provenance": []
    },
    "kernelspec": {
      "name": "python3",
      "display_name": "Python 3"
    },
    "language_info": {
      "name": "python"
    }
  },
  "cells": [
    {
      "cell_type": "code",
      "execution_count": 19,
      "metadata": {
        "id": "jIp4TSHtD-gN"
      },
      "outputs": [],
      "source": [
        "import pandas as pd\n",
        "import numpy as np\n",
        "import matplotlib.pyplot as plt\n",
        "import seaborn as sns\n",
        "from sklearn.model_selection import train_test_split\n",
        "from sklearn.preprocessing import StandardScaler, LabelEncoder\n",
        "from sklearn.ensemble import RandomForestClassifier\n",
        "from sklearn.ensemble import AdaBoostClassifier\n",
        "from xgboost import XGBClassifier\n",
        "from sklearn.metrics import accuracy_score"
      ]
    },
    {
      "cell_type": "code",
      "source": [
        "df=pd.read_csv('/content/breast-cancer.csv')"
      ],
      "metadata": {
        "id": "M-KF6ZT3Gl_2"
      },
      "execution_count": 2,
      "outputs": []
    },
    {
      "cell_type": "code",
      "source": [
        "num_cols=df.select_dtypes(include=[\"number\"]).columns\n",
        "cat_cols=df.select_dtypes(include=[\"object\"]).columns\n",
        "print(\"numerical columns are\",num_cols)\n",
        "print(\"categorical columns are\",cat_cols)\n",
        "\n",
        "\n",
        "import numpy as np\n",
        "from pandas.api.types import is_numeric_dtype\n",
        "\n",
        "for col in df.columns:\n",
        "    if is_numeric_dtype(df[col]):\n",
        "        # Fill numeric column with median\n",
        "        median_val = df[col].median()\n",
        "        df[col] = df[col].fillna(median_val)\n",
        "    else:\n",
        "        # Fill categorical column with mode only if mode exists\n",
        "        mode_vals = df[col].mode()\n",
        "        if not mode_vals.empty:\n",
        "            df[col] = df[col].fillna(mode_vals[0])"
      ],
      "metadata": {
        "id": "7oTjABdfGstf"
      },
      "execution_count": 3,
      "outputs": []
    },
    {
      "cell_type": "code",
      "source": [
        "df['diagnosis'] = LabelEncoder().fit_transform(df['diagnosis'])"
      ],
      "metadata": {
        "id": "PfZfE1JCGxhH"
      },
      "execution_count": 4,
      "outputs": []
    },
    {
      "cell_type": "code",
      "source": [
        "X = df.drop(columns=['diagnosis'])\n",
        "y = df['diagnosis']"
      ],
      "metadata": {
        "id": "DZ8MJ-vvG2hE"
      },
      "execution_count": 5,
      "outputs": []
    },
    {
      "cell_type": "code",
      "source": [
        "std_X = StandardScaler()\n",
        "X = std_X.fit_transform(X)"
      ],
      "metadata": {
        "id": "GyKXtlxgG4iO"
      },
      "execution_count": 6,
      "outputs": []
    },
    {
      "cell_type": "code",
      "source": [
        "X_train, X_test, y_train, y_test = train_test_split(X, y, test_size=0.3, random_state=42)"
      ],
      "metadata": {
        "id": "nlhVGvQAHCVN"
      },
      "execution_count": 26,
      "outputs": []
    },
    {
      "cell_type": "code",
      "source": [
        "rf = RandomForestClassifier(random_state=42)\n",
        "rf.fit(X_train, y_train)\n",
        "predictions = rf.predict(X_test)\n",
        "print(\"Accuracy:\", accuracy_score(y_test, predictions))"
      ],
      "metadata": {
        "colab": {
          "base_uri": "https://localhost:8080/"
        },
        "id": "C7hShKv6HGVm",
        "outputId": "f3f29baa-6014-4ded-914b-dcb7e5551fee"
      },
      "execution_count": 27,
      "outputs": [
        {
          "output_type": "stream",
          "name": "stdout",
          "text": [
            "Accuracy: 0.9766081871345029\n"
          ]
        }
      ]
    },
    {
      "cell_type": "code",
      "source": [
        "ab = AdaBoostClassifier(random_state=42)\n",
        "ab.fit(X_train, y_train)\n",
        "predictions_ab = ab.predict(X_test)\n",
        "print(\"Accuracy:\", accuracy_score(y_test, predictions_ab))"
      ],
      "metadata": {
        "colab": {
          "base_uri": "https://localhost:8080/"
        },
        "id": "eteK73jDHIvP",
        "outputId": "87011e0b-da45-4cc3-b6a4-1a8f8d3c90ff"
      },
      "execution_count": 28,
      "outputs": [
        {
          "output_type": "stream",
          "name": "stdout",
          "text": [
            "Accuracy: 0.9824561403508771\n"
          ]
        }
      ]
    },
    {
      "cell_type": "code",
      "source": [
        "xb = XGBClassifier(random_state=42)\n",
        "xb.fit(X_train, y_train)\n",
        "predictions_xb = xb.predict(X_test)\n",
        "print(\"Accuracy:\", accuracy_score(y_test, predictions_xb))"
      ],
      "metadata": {
        "colab": {
          "base_uri": "https://localhost:8080/"
        },
        "id": "s2dpi86uSMTz",
        "outputId": "9352696a-7c09-49f5-e029-e4f1d240fd44"
      },
      "execution_count": 29,
      "outputs": [
        {
          "output_type": "stream",
          "name": "stdout",
          "text": [
            "Accuracy: 0.9707602339181286\n"
          ]
        }
      ]
    },
    {
      "cell_type": "code",
      "source": [],
      "metadata": {
        "id": "nGjdoa6dS6ox"
      },
      "execution_count": null,
      "outputs": []
    }
  ]
}